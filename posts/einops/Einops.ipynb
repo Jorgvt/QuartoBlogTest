{
  "cells": [
    {
      "cell_type": "raw",
      "metadata": {},
      "source": [
        "---\n",
        "title: \"Visualizando Einops: Parte 1\"\n",
        "description: \"Primera parte de la introducción a `einops`.\"\n",
        "author: Jorge Vila Tomás\n",
        "date: 08/03/2022\n",
        "categories: [español, codigo, tutorial] \n",
        "format:\n",
        "    html:\n",
        "        code-fold: false\n",
        "---"
      ]
    },
    {
      "cell_type": "code",
      "execution_count": null,
      "metadata": {
        "id": "CY5S2kjHt-rv"
      },
      "outputs": [],
      "source": [
        "from rich import inspect\n",
        "import numpy as np\n",
        "import matplotlib.pyplot as plt\n",
        "import tensorflow as tf\n",
        "from tensorflow.keras import layers\n",
        "from einops.layers.keras import Rearrange, Reduce"
      ]
    },
    {
      "cell_type": "markdown",
      "metadata": {
        "id": "I7eF8PJxQNGB"
      },
      "source": [
        "# Construir la entrada de prueba\n",
        "\n",
        "Lo primero que vamos a hacer es contruir una señal de entrada que nos permita visualizar el resultado de las diferentes operaciones que vamos a ir realizando. Siempre es buena idea utilizar una entrada que sabemos el resultado que tiene que producir cuando queremos comprobar el funcionamiento de alguna herramienta nueva.\n",
        "\n",
        "En este caso generaremos una imágen cuyas filas tienen distintos colores, siendo el color igual en toda la fila."
      ]
    },
    {
      "cell_type": "code",
      "execution_count": 21,
      "metadata": {
        "colab": {
          "base_uri": "https://localhost:8080/"
        },
        "id": "xBkrFShRRADq",
        "outputId": "fd7ef3f2-f226-423d-9baf-aabc6c95189b"
      },
      "outputs": [
        {
          "data": {
            "text/plain": [
              "(3, 3, 3)"
            ]
          },
          "execution_count": 21,
          "metadata": {},
          "output_type": "execute_result"
        }
      ],
      "source": [
        "red = np.ones(shape=(1,3,3))*np.array([1,0,0])\n",
        "blue = np.ones(shape=(1,3,3))*np.array([0,1,0])\n",
        "yellow = np.ones(shape=(1,3,3))*np.array([0,0,1])\n",
        "sample = np.concatenate([red, blue, yellow])\n",
        "sample.shape"
      ]
    },
    {
      "cell_type": "code",
      "execution_count": 22,
      "metadata": {
        "colab": {
          "base_uri": "https://localhost:8080/",
          "height": 269
        },
        "id": "lItQ__9sR56n",
        "outputId": "75474ee7-5927-485c-b86f-2140571686fa"
      },
      "outputs": [
        {
          "data": {
            "image/png": "[encoded data removed]",
            "text/plain": [
              "<Figure size 432x288 with 1 Axes>"
            ]
          },
          "metadata": {
            "needs_background": "light"
          },
          "output_type": "display_data"
        }
      ],
      "source": [
        "plt.imshow(sample)\n",
        "plt.show()"
      ]
    },
    {
      "cell_type": "markdown",
      "metadata": {
        "id": "98K-s47LSaNG"
      },
      "source": [
        "Le añadimos la dimensión del batch porque las capas de Keras esperan que la tenga aunque sea solo una muestra:"
      ]
    },
    {
      "cell_type": "code",
      "execution_count": 25,
      "metadata": {
        "colab": {
          "base_uri": "https://localhost:8080/"
        },
        "id": "nAE5TDBuShdq",
        "outputId": "dab80d35-a9e5-46a6-e922-2b5c443a0e4c"
      },
      "outputs": [
        {
          "data": {
            "text/plain": [
              "(1, 3, 3, 3)"
            ]
          },
          "execution_count": 25,
          "metadata": {},
          "output_type": "execute_result"
        }
      ],
      "source": [
        "sample = np.expand_dims(sample, 0)\n",
        "sample.shape"
      ]
    },
    {
      "cell_type": "markdown",
      "metadata": {
        "id": "1lBbw08YvKmG"
      },
      "source": [
        "# Flatten"
      ]
    },
    {
      "cell_type": "code",
      "execution_count": 26,
      "metadata": {
        "id": "hK-UM0PhPaQv"
      },
      "outputs": [],
      "source": [
        "sample_flatten_layer = layers.Flatten()(sample).numpy()\n",
        "sample_flatten_einops = Rearrange(\"b h w c -> b (h w c)\")(sample).numpy()"
      ]
    },
    {
      "cell_type": "code",
      "execution_count": 28,
      "metadata": {
        "colab": {
          "base_uri": "https://localhost:8080/",
          "height": 64
        },
        "id": "DYYdBSlRSVpk",
        "outputId": "42d37e9e-91e7-4004-f76b-50f266306b08"
      },
      "outputs": [
        {
          "data": {
            "image/png": "[encoded data removed]",
            "text/plain": [
              "<Figure size 432x288 with 1 Axes>"
            ]
          },
          "metadata": {
            "needs_background": "light"
          },
          "output_type": "display_data"
        }
      ],
      "source": [
        "plt.imshow(sample_flatten_layer)\n",
        "plt.show()"
      ]
    },
    {
      "cell_type": "code",
      "execution_count": 29,
      "metadata": {
        "colab": {
          "base_uri": "https://localhost:8080/",
          "height": 64
        },
        "id": "m-D8VV4fStpO",
        "outputId": "7a4c3cfc-446b-4c4d-94c6-1ad2a39769c1"
      },
      "outputs": [
        {
          "data": {
            "image/png": "[encoded data removed]",
            "text/plain": [
              "<Figure size 432x288 with 1 Axes>"
            ]
          },
          "metadata": {
            "needs_background": "light"
          },
          "output_type": "display_data"
        }
      ],
      "source": [
        "plt.imshow(sample_flatten_einops)\n",
        "plt.show()"
      ]
    },
    {
      "cell_type": "code",
      "execution_count": null,
      "metadata": {
        "id": "8hoQXkjhU_Fz"
      },
      "outputs": [],
      "source": [
        "assert np.allclose(sample_flatten_layer, sample_flatten_einops)"
      ]
    },
    {
      "cell_type": "markdown",
      "metadata": {
        "id": "yVj9t6iXV10C"
      },
      "source": [
        "Hemos comprobado que las dos operaciones producen el mismo resultado, pero la visualización no es especialmente útil porque al estirar completamente la imagen, hemos perdido la información de los colores. Podemos repetirlo con una imagen en escala de grises para verlo un poco mejor:"
      ]
    },
    {
      "cell_type": "code",
      "execution_count": 33,
      "metadata": {
        "colab": {
          "base_uri": "https://localhost:8080/"
        },
        "id": "FBOkzNvpWbJX",
        "outputId": "d78a3d49-0827-4ad0-c749-2a55f711f337"
      },
      "outputs": [
        {
          "data": {
            "text/plain": [
              "array([  0.   ,  31.875,  63.75 ,  95.625, 127.5  , 159.375, 191.25 ,\n",
              "       223.125, 255.   ])"
            ]
          },
          "execution_count": 33,
          "metadata": {},
          "output_type": "execute_result"
        }
      ],
      "source": [
        "np.linspace(0,255,9)"
      ]
    },
    {
      "cell_type": "code",
      "execution_count": 41,
      "metadata": {
        "colab": {
          "base_uri": "https://localhost:8080/"
        },
        "id": "vz-5DEa8WDBU",
        "outputId": "2133ec11-d800-4e61-fce8-19f22bd1632a"
      },
      "outputs": [
        {
          "data": {
            "text/plain": [
              "(3, 3)"
            ]
          },
          "execution_count": 41,
          "metadata": {},
          "output_type": "execute_result"
        }
      ],
      "source": [
        "sample_bw = np.array([[0, 31, 63],\n",
        "                      [95, 127, 159],\n",
        "                      [191, 223, 255]])\n",
        "sample_bw.shape"
      ]
    },
    {
      "cell_type": "code",
      "execution_count": 42,
      "metadata": {
        "colab": {
          "base_uri": "https://localhost:8080/",
          "height": 269
        },
        "id": "SHLxr7YwWm7F",
        "outputId": "06427db6-82ff-4e96-e523-48b25f9e0953"
      },
      "outputs": [
        {
          "data": {
            "image/png": "[encoded data removed]",
            "text/plain": [
              "<Figure size 432x288 with 1 Axes>"
            ]
          },
          "metadata": {
            "needs_background": "light"
          },
          "output_type": "display_data"
        }
      ],
      "source": [
        "plt.imshow(sample_bw)\n",
        "plt.show()"
      ]
    },
    {
      "cell_type": "code",
      "execution_count": 43,
      "metadata": {
        "colab": {
          "base_uri": "https://localhost:8080/"
        },
        "id": "_6yVeBfxW0YU",
        "outputId": "9eaac7f2-e911-4054-81a4-1eca4d2248df"
      },
      "outputs": [
        {
          "data": {
            "text/plain": [
              "(1, 3, 3, 1)"
            ]
          },
          "execution_count": 43,
          "metadata": {},
          "output_type": "execute_result"
        }
      ],
      "source": [
        "sample_bw = np.expand_dims(sample_bw, 0)\n",
        "sample_bw = np.expand_dims(sample_bw, -1)\n",
        "sample_bw.shape"
      ]
    },
    {
      "cell_type": "code",
      "execution_count": 44,
      "metadata": {
        "id": "w0Nk6yIgWurW"
      },
      "outputs": [],
      "source": [
        "sample_flatten_layer_bw = layers.Flatten()(sample_bw).numpy()\n",
        "sample_flatten_einops_bw = Rearrange(\"b h w c -> b (h w c)\")(sample_bw).numpy()"
      ]
    },
    {
      "cell_type": "code",
      "execution_count": 46,
      "metadata": {
        "colab": {
          "base_uri": "https://localhost:8080/",
          "height": 89
        },
        "id": "YXL0LFFJWurb",
        "outputId": "12a399fd-576d-41d9-8e9a-df07c4c1a4f1"
      },
      "outputs": [
        {
          "data": {
            "image/png": "[encoded data removed]",
            "text/plain": [
              "<Figure size 432x288 with 1 Axes>"
            ]
          },
          "metadata": {
            "needs_background": "light"
          },
          "output_type": "display_data"
        }
      ],
      "source": [
        "plt.imshow(sample_flatten_layer_bw)\n",
        "plt.show()"
      ]
    },
    {
      "cell_type": "code",
      "execution_count": 47,
      "metadata": {
        "colab": {
          "base_uri": "https://localhost:8080/",
          "height": 89
        },
        "id": "-w-Mj04bWurb",
        "outputId": "94ab9162-683e-41bf-b003-c577a2481c92"
      },
      "outputs": [
        {
          "data": {
            "image/png": "[encoded data removed]",
            "text/plain": [
              "<Figure size 432x288 with 1 Axes>"
            ]
          },
          "metadata": {
            "needs_background": "light"
          },
          "output_type": "display_data"
        }
      ],
      "source": [
        "plt.imshow(sample_flatten_einops_bw)\n",
        "plt.show()"
      ]
    },
    {
      "cell_type": "markdown",
      "metadata": {
        "id": "5InHt8XvXFaJ"
      },
      "source": [
        "Ahora sí que somos capaces de ver fácilmente que las operaciones se realizan de la misma manera y que, además, la capa `Flatten()` se aplica estirando primero las filas."
      ]
    },
    {
      "cell_type": "markdown",
      "metadata": {
        "id": "T3Ldc-1CT5X_"
      },
      "source": [
        "## Mantiendo la dimensión de los canales\n",
        "\n",
        "Como hemos podido ver, una de las desventajas de estirar la imagen completa es que perdemos la información de los colores. Lo bonito de utilizar `einops` es que podemos especificar que queremos estirar únicamente las dimensiones de *alto* y *ancho*, pero que queremos dejar igual la dimensión de los canales. De esta forma podemos mantener la misma información de color que en la imagen original, lo que facilita la intepretación de la operación.\n",
        "\n",
        "Algo que nos planteamos al utilizar `Flatten()` es por qué dimensión empezamos a estirar los datos. En cambio, al utilizar `einops` estamos haciendo esta elección, ya que somos nosotros los que elegimos el orden al escribir la operación. Por ejemplo, al escribir `\"b h w c -> b (h w) c\"`, estamos indicando que queremos estirar primero las filas y luego las columnas. En cambio, al escribir `\"b h w c -> b (w h) c\"`, estaremos estirando primero las columnas y luego las filas. Podemos ver como cambian los resultados:"
      ]
    },
    {
      "cell_type": "code",
      "execution_count": 30,
      "metadata": {
        "colab": {
          "base_uri": "https://localhost:8080/",
          "height": 89
        },
        "id": "D49bL9C3TLDn",
        "outputId": "b5930f4b-7ab1-49e7-b1f3-9a12e9f1e437"
      },
      "outputs": [
        {
          "data": {
            "image/png": "[encoded data removed]",
            "text/plain": [
              "<Figure size 432x288 with 1 Axes>"
            ]
          },
          "metadata": {
            "needs_background": "light"
          },
          "output_type": "display_data"
        }
      ],
      "source": [
        "sample_flatten_einops = Rearrange(\"b h w c -> b (h w) c\")(sample).numpy()\n",
        "plt.imshow(sample_flatten_einops)\n",
        "plt.show()"
      ]
    },
    {
      "cell_type": "code",
      "execution_count": 31,
      "metadata": {
        "colab": {
          "base_uri": "https://localhost:8080/",
          "height": 89
        },
        "id": "y-P5QhnkTT24",
        "outputId": "48f023ee-3a8e-4a7a-d2b0-2aea77da295f"
      },
      "outputs": [
        {
          "data": {
            "image/png": "[encoded data removed]",
            "text/plain": [
              "<Figure size 432x288 with 1 Axes>"
            ]
          },
          "metadata": {
            "needs_background": "light"
          },
          "output_type": "display_data"
        }
      ],
      "source": [
        "sample_flatten_einops = Rearrange(\"b h w c -> b (w h) c\")(sample).numpy()\n",
        "plt.imshow(sample_flatten_einops)\n",
        "plt.show()"
      ]
    },
    {
      "cell_type": "markdown",
      "metadata": {
        "id": "bvS_-dN7VB8_"
      },
      "source": [
        "En el primer caso vemos como la operación va recorriendo las filas y colocándolas una al lado de la otra (lo que se podría entender como estirar las filas), mientras que en el segundo caso sucede lo mismo con las columnas; se coge la primera columna, se estira y se repite el proceso con las siguientes columnas.\n",
        "\n",
        "En muchos casos puede que no sea necesario conocer el funcionamiento detallado de estas operaciones, pero es un ejercicio interesante y no está de más tener claro cómo s eestán aplicando exactamente las operaciones que vamos realizando."
      ]
    },
    {
      "cell_type": "markdown",
      "metadata": {
        "id": "ToNlC6LbxYde"
      },
      "source": [
        "# Pooling"
      ]
    },
    {
      "cell_type": "markdown",
      "metadata": {
        "id": "DtSmOYBYbBEa"
      },
      "source": [
        "## Creación de la entrada"
      ]
    },
    {
      "cell_type": "code",
      "execution_count": 52,
      "metadata": {
        "colab": {
          "base_uri": "https://localhost:8080/"
        },
        "id": "z2_p4-PnXgy4",
        "outputId": "e6dd181d-269f-47dc-bee4-7d52abb870bc"
      },
      "outputs": [
        {
          "data": {
            "text/plain": [
              "((1, 1, 1, 3), (1, 1, 1, 3))"
            ]
          },
          "execution_count": 52,
          "metadata": {},
          "output_type": "execute_result"
        }
      ],
      "source": [
        "sample_maxpool_layer = layers.MaxPool2D(3)(sample).numpy()\n",
        "sample_maxpool_einops = Reduce(\"b (h h2) (w w2) c -> b h w c\", \"max\", h2=3, w2=3)(sample).numpy()\n",
        "\n",
        "sample_maxpool_layer.shape, sample_maxpool_einops.shape"
      ]
    },
    {
      "cell_type": "code",
      "execution_count": 54,
      "metadata": {
        "colab": {
          "base_uri": "https://localhost:8080/"
        },
        "id": "HqN4CcX0a7Wh",
        "outputId": "24981a38-78ec-40e0-98c4-93ba01ef6abb"
      },
      "outputs": [
        {
          "data": {
            "text/plain": [
              "(array([1., 1., 1.], dtype=float32), array([1., 1., 1.], dtype=float32))"
            ]
          },
          "execution_count": 54,
          "metadata": {},
          "output_type": "execute_result"
        }
      ],
      "source": [
        "sample_maxpool_layer.squeeze(), sample_maxpool_einops.squeeze()"
      ]
    },
    {
      "cell_type": "code",
      "execution_count": 58,
      "metadata": {
        "id": "Z8xU8AMcvtjx"
      },
      "outputs": [],
      "source": [
        "assert np.allclose(sample_maxpool_layer, sample_maxpool_einops)"
      ]
    },
    {
      "cell_type": "code",
      "execution_count": null,
      "metadata": {
        "id": "kVbRvSSHx8Jj"
      },
      "outputs": [],
      "source": [
        "assert (layers.AveragePooling2D(2)(sample).numpy() == Reduce(\"b (h h2) (w w2) c -> b h w c\", \"mean\", h2=2, w2=2)(sample).numpy()).all()"
      ]
    },
    {
      "cell_type": "code",
      "execution_count": null,
      "metadata": {
        "id": "cjydElMjxx4Z"
      },
      "outputs": [],
      "source": [
        "assert (layers.GlobalAveragePooling2D()(sample).numpy() == Reduce(\"b h w c -> b (h w c)\", \"mean\")(sample).numpy()).all()"
      ]
    },
    {
      "cell_type": "code",
      "execution_count": null,
      "metadata": {
        "id": "tOhtAfclyYGj"
      },
      "outputs": [],
      "source": []
    }
  ],
  "metadata": {
    "colab": {
      "collapsed_sections": [],
      "name": "EinopsLayers.ipynb",
      "provenance": []
    },
    "kernelspec": {
      "display_name": "Python 3.8.9 64-bit",
      "language": "python",
      "name": "python3"
    },
    "language_info": {
      "name": "python",
      "version": "3.8.9"
    },
    "vscode": {
      "interpreter": {
        "hash": "31f2aee4e71d21fbe5cf8b01ff0e069b9275f58929596ceb00d14d90e3e16cd6"
      }
    }
  },
  "nbformat": 4,
  "nbformat_minor": 0
}
